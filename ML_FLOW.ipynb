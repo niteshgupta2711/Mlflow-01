{
 "cells": [
  {
   "cell_type": "code",
   "execution_count": null,
   "id": "b6951e6d",
   "metadata": {},
   "outputs": [],
   "source": [
    "# mlflow has four main components\n",
    "#  mlflow tracking (expering tracking)\n",
    "# mlflow projects ( reproudce runs on any platform package your code  to reproduce  runs)\n",
    "# model serving\n",
    "# model registry\n"
   ]
  }
 ],
 "metadata": {
  "kernelspec": {
   "display_name": "Python 3 (ipykernel)",
   "language": "python",
   "name": "python3"
  },
  "language_info": {
   "codemirror_mode": {
    "name": "ipython",
    "version": 3
   },
   "file_extension": ".py",
   "mimetype": "text/x-python",
   "name": "python",
   "nbconvert_exporter": "python",
   "pygments_lexer": "ipython3",
   "version": "3.9.13"
  }
 },
 "nbformat": 4,
 "nbformat_minor": 5
}
